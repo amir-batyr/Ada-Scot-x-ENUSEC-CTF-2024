{
 "cells": [
  {
   "cell_type": "code",
   "execution_count": null,
   "metadata": {
    "colab": {
     "base_uri": "https://localhost:8080/"
    },
    "id": "16_7Etx1A6jY",
    "outputId": "3b5469c8-fa85-4240-d899-99412a49025a"
   },
   "outputs": [],
   "source": [
    "!git clone https://github.com/openwall/john"
   ]
  },
  {
   "cell_type": "code",
   "execution_count": null,
   "metadata": {
    "colab": {
     "base_uri": "https://localhost:8080/"
    },
    "id": "zG8ZPigtBOeR",
    "outputId": "9c541f93-5ebe-4de7-e726-f93478717b0f"
   },
   "outputs": [],
   "source": [
    "!cd john/src && ./configure && make"
   ]
  },
  {
   "cell_type": "code",
   "execution_count": null,
   "metadata": {
    "id": "Xrd3EzO4E2yJ"
   },
   "outputs": [],
   "source": [
    "!mv /content/rockyou.txt /content/john/run"
   ]
  },
  {
   "cell_type": "markdown",
   "metadata": {
    "id": "VMgzP8MJnpbX"
   },
   "source": [
    "Download this https://github.com/brannondorsey/naive-hashcat/releases/download/data/rockyou.txt\n"
   ]
  },
  {
   "cell_type": "code",
   "execution_count": null,
   "metadata": {
    "colab": {
     "base_uri": "https://localhost:8080/"
    },
    "id": "QMn8vuCDBSmD",
    "outputId": "08fcbcf6-01f5-4a41-a331-29a5049a4f1f"
   },
   "outputs": [],
   "source": [
    "!cd ./john/run && ./john hash.txt --wordlist=rockyou.txt"
   ]
  }
 ],
 "metadata": {
  "colab": {
   "provenance": []
  },
  "kernelspec": {
   "display_name": "Python 3",
   "name": "python3"
  },
  "language_info": {
   "name": "python"
  }
 },
 "nbformat": 4,
 "nbformat_minor": 0
}
